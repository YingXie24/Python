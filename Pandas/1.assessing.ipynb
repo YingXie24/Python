{
 "cells": [
  {
   "cell_type": "markdown",
   "metadata": {
    "collapsed": true
   },
   "source": [
    "# Assessing\n",
    "Use the space below to explore `all_alpha_08.csv` and `all_alpha_18.csv` to answer the quiz questions below."
   ]
  },
  {
   "cell_type": "code",
   "execution_count": 2,
   "metadata": {},
   "outputs": [],
   "source": [
    "import pandas as pd\n",
    "all_alpha_08 = pd.read_csv('all_alpha_08.csv')\n",
    "all_alpha_18 = pd.read_csv('all_alpha_18.csv')"
   ]
  },
  {
   "cell_type": "code",
   "execution_count": 3,
   "metadata": {},
   "outputs": [
    {
     "data": {
      "text/html": [
       "<div>\n",
       "<style scoped>\n",
       "    .dataframe tbody tr th:only-of-type {\n",
       "        vertical-align: middle;\n",
       "    }\n",
       "\n",
       "    .dataframe tbody tr th {\n",
       "        vertical-align: top;\n",
       "    }\n",
       "\n",
       "    .dataframe thead th {\n",
       "        text-align: right;\n",
       "    }\n",
       "</style>\n",
       "<table border=\"1\" class=\"dataframe\">\n",
       "  <thead>\n",
       "    <tr style=\"text-align: right;\">\n",
       "      <th></th>\n",
       "      <th>Model</th>\n",
       "      <th>Displ</th>\n",
       "      <th>Cyl</th>\n",
       "      <th>Trans</th>\n",
       "      <th>Drive</th>\n",
       "      <th>Fuel</th>\n",
       "      <th>Sales Area</th>\n",
       "      <th>Stnd</th>\n",
       "      <th>Underhood ID</th>\n",
       "      <th>Veh Class</th>\n",
       "      <th>Air Pollution Score</th>\n",
       "      <th>FE Calc Appr</th>\n",
       "      <th>City MPG</th>\n",
       "      <th>Hwy MPG</th>\n",
       "      <th>Cmb MPG</th>\n",
       "      <th>Unadj Cmb MPG</th>\n",
       "      <th>Greenhouse Gas Score</th>\n",
       "      <th>SmartWay</th>\n",
       "    </tr>\n",
       "  </thead>\n",
       "  <tbody>\n",
       "    <tr>\n",
       "      <th>0</th>\n",
       "      <td>ACURA MDX</td>\n",
       "      <td>3.7</td>\n",
       "      <td>(6 cyl)</td>\n",
       "      <td>Auto-S5</td>\n",
       "      <td>4WD</td>\n",
       "      <td>Gasoline</td>\n",
       "      <td>CA</td>\n",
       "      <td>U2</td>\n",
       "      <td>8HNXT03.7PKR</td>\n",
       "      <td>SUV</td>\n",
       "      <td>7</td>\n",
       "      <td>Drv</td>\n",
       "      <td>15</td>\n",
       "      <td>20</td>\n",
       "      <td>17</td>\n",
       "      <td>22.0527</td>\n",
       "      <td>4</td>\n",
       "      <td>no</td>\n",
       "    </tr>\n",
       "    <tr>\n",
       "      <th>1</th>\n",
       "      <td>ACURA MDX</td>\n",
       "      <td>3.7</td>\n",
       "      <td>(6 cyl)</td>\n",
       "      <td>Auto-S5</td>\n",
       "      <td>4WD</td>\n",
       "      <td>Gasoline</td>\n",
       "      <td>FA</td>\n",
       "      <td>B5</td>\n",
       "      <td>8HNXT03.7PKR</td>\n",
       "      <td>SUV</td>\n",
       "      <td>6</td>\n",
       "      <td>Drv</td>\n",
       "      <td>15</td>\n",
       "      <td>20</td>\n",
       "      <td>17</td>\n",
       "      <td>22.0527</td>\n",
       "      <td>4</td>\n",
       "      <td>no</td>\n",
       "    </tr>\n",
       "  </tbody>\n",
       "</table>\n",
       "</div>"
      ],
      "text/plain": [
       "       Model  Displ      Cyl    Trans Drive      Fuel Sales Area Stnd  \\\n",
       "0  ACURA MDX    3.7  (6 cyl)  Auto-S5   4WD  Gasoline         CA   U2   \n",
       "1  ACURA MDX    3.7  (6 cyl)  Auto-S5   4WD  Gasoline         FA   B5   \n",
       "\n",
       "   Underhood ID Veh Class Air Pollution Score FE Calc Appr City MPG Hwy MPG  \\\n",
       "0  8HNXT03.7PKR       SUV                   7          Drv       15      20   \n",
       "1  8HNXT03.7PKR       SUV                   6          Drv       15      20   \n",
       "\n",
       "  Cmb MPG  Unadj Cmb MPG Greenhouse Gas Score SmartWay  \n",
       "0      17        22.0527                    4       no  \n",
       "1      17        22.0527                    4       no  "
      ]
     },
     "execution_count": 3,
     "metadata": {},
     "output_type": "execute_result"
    }
   ],
   "source": [
    "all_alpha_08.head(2)"
   ]
  },
  {
   "cell_type": "code",
   "execution_count": 4,
   "metadata": {},
   "outputs": [
    {
     "data": {
      "text/html": [
       "<div>\n",
       "<style scoped>\n",
       "    .dataframe tbody tr th:only-of-type {\n",
       "        vertical-align: middle;\n",
       "    }\n",
       "\n",
       "    .dataframe tbody tr th {\n",
       "        vertical-align: top;\n",
       "    }\n",
       "\n",
       "    .dataframe thead th {\n",
       "        text-align: right;\n",
       "    }\n",
       "</style>\n",
       "<table border=\"1\" class=\"dataframe\">\n",
       "  <thead>\n",
       "    <tr style=\"text-align: right;\">\n",
       "      <th></th>\n",
       "      <th>Model</th>\n",
       "      <th>Displ</th>\n",
       "      <th>Cyl</th>\n",
       "      <th>Trans</th>\n",
       "      <th>Drive</th>\n",
       "      <th>Fuel</th>\n",
       "      <th>Cert Region</th>\n",
       "      <th>Stnd</th>\n",
       "      <th>Stnd Description</th>\n",
       "      <th>Underhood ID</th>\n",
       "      <th>Veh Class</th>\n",
       "      <th>Air Pollution Score</th>\n",
       "      <th>City MPG</th>\n",
       "      <th>Hwy MPG</th>\n",
       "      <th>Cmb MPG</th>\n",
       "      <th>Greenhouse Gas Score</th>\n",
       "      <th>SmartWay</th>\n",
       "      <th>Comb CO2</th>\n",
       "    </tr>\n",
       "  </thead>\n",
       "  <tbody>\n",
       "    <tr>\n",
       "      <th>0</th>\n",
       "      <td>ACURA RDX</td>\n",
       "      <td>3.5</td>\n",
       "      <td>6.0</td>\n",
       "      <td>SemiAuto-6</td>\n",
       "      <td>2WD</td>\n",
       "      <td>Gasoline</td>\n",
       "      <td>FA</td>\n",
       "      <td>T3B125</td>\n",
       "      <td>Federal Tier 3 Bin 125</td>\n",
       "      <td>JHNXT03.5GV3</td>\n",
       "      <td>small SUV</td>\n",
       "      <td>3</td>\n",
       "      <td>20</td>\n",
       "      <td>28</td>\n",
       "      <td>23</td>\n",
       "      <td>5</td>\n",
       "      <td>No</td>\n",
       "      <td>386</td>\n",
       "    </tr>\n",
       "    <tr>\n",
       "      <th>1</th>\n",
       "      <td>ACURA RDX</td>\n",
       "      <td>3.5</td>\n",
       "      <td>6.0</td>\n",
       "      <td>SemiAuto-6</td>\n",
       "      <td>2WD</td>\n",
       "      <td>Gasoline</td>\n",
       "      <td>CA</td>\n",
       "      <td>U2</td>\n",
       "      <td>California LEV-II ULEV</td>\n",
       "      <td>JHNXT03.5GV3</td>\n",
       "      <td>small SUV</td>\n",
       "      <td>3</td>\n",
       "      <td>20</td>\n",
       "      <td>28</td>\n",
       "      <td>23</td>\n",
       "      <td>5</td>\n",
       "      <td>No</td>\n",
       "      <td>386</td>\n",
       "    </tr>\n",
       "  </tbody>\n",
       "</table>\n",
       "</div>"
      ],
      "text/plain": [
       "       Model  Displ  Cyl       Trans Drive      Fuel Cert Region    Stnd  \\\n",
       "0  ACURA RDX    3.5  6.0  SemiAuto-6   2WD  Gasoline          FA  T3B125   \n",
       "1  ACURA RDX    3.5  6.0  SemiAuto-6   2WD  Gasoline          CA      U2   \n",
       "\n",
       "         Stnd Description  Underhood ID  Veh Class  Air Pollution Score  \\\n",
       "0  Federal Tier 3 Bin 125  JHNXT03.5GV3  small SUV                    3   \n",
       "1  California LEV-II ULEV  JHNXT03.5GV3  small SUV                    3   \n",
       "\n",
       "  City MPG Hwy MPG Cmb MPG  Greenhouse Gas Score SmartWay Comb CO2  \n",
       "0       20      28      23                     5       No      386  \n",
       "1       20      28      23                     5       No      386  "
      ]
     },
     "execution_count": 4,
     "metadata": {},
     "output_type": "execute_result"
    }
   ],
   "source": [
    "all_alpha_18.head(2)"
   ]
  },
  {
   "cell_type": "code",
   "execution_count": 6,
   "metadata": {},
   "outputs": [
    {
     "data": {
      "text/plain": [
       "(2404, 18)"
      ]
     },
     "execution_count": 6,
     "metadata": {},
     "output_type": "execute_result"
    },
    {
     "data": {
      "text/plain": [
       "(1611, 18)"
      ]
     },
     "execution_count": 6,
     "metadata": {},
     "output_type": "execute_result"
    }
   ],
   "source": [
    "#Number of samples and number of columns\n",
    "from IPython.core.interactiveshell import InteractiveShell\n",
    "InteractiveShell.ast_node_interactivity = \"all\"\n",
    "all_alpha_08.shape\n",
    "all_alpha_18.shape\n"
   ]
  },
  {
   "cell_type": "code",
   "execution_count": 7,
   "metadata": {},
   "outputs": [
    {
     "data": {
      "text/plain": [
       "25"
      ]
     },
     "execution_count": 7,
     "metadata": {},
     "output_type": "execute_result"
    },
    {
     "data": {
      "text/plain": [
       "0"
      ]
     },
     "execution_count": 7,
     "metadata": {},
     "output_type": "execute_result"
    }
   ],
   "source": [
    "#Number of duplicates\n",
    "all_alpha_08.duplicated().sum()\n",
    "all_alpha_18.duplicated().sum()"
   ]
  },
  {
   "cell_type": "code",
   "execution_count": 8,
   "metadata": {},
   "outputs": [
    {
     "data": {
      "text/plain": [
       "Model                     0\n",
       "Displ                     0\n",
       "Cyl                     199\n",
       "Trans                   199\n",
       "Drive                    93\n",
       "Fuel                      0\n",
       "Sales Area                0\n",
       "Stnd                      0\n",
       "Underhood ID              0\n",
       "Veh Class                 0\n",
       "Air Pollution Score       0\n",
       "FE Calc Appr            199\n",
       "City MPG                199\n",
       "Hwy MPG                 199\n",
       "Cmb MPG                 199\n",
       "Unadj Cmb MPG           199\n",
       "Greenhouse Gas Score    199\n",
       "SmartWay                  0\n",
       "dtype: int64"
      ]
     },
     "execution_count": 8,
     "metadata": {},
     "output_type": "execute_result"
    },
    {
     "data": {
      "text/plain": [
       "Model                   0\n",
       "Displ                   2\n",
       "Cyl                     2\n",
       "Trans                   0\n",
       "Drive                   0\n",
       "Fuel                    0\n",
       "Cert Region             0\n",
       "Stnd                    0\n",
       "Stnd Description        0\n",
       "Underhood ID            0\n",
       "Veh Class               0\n",
       "Air Pollution Score     0\n",
       "City MPG                0\n",
       "Hwy MPG                 0\n",
       "Cmb MPG                 0\n",
       "Greenhouse Gas Score    0\n",
       "SmartWay                0\n",
       "Comb CO2                0\n",
       "dtype: int64"
      ]
     },
     "execution_count": 8,
     "metadata": {},
     "output_type": "execute_result"
    }
   ],
   "source": [
    "# Number of rows with missing data\n",
    "all_alpha_08.isnull().sum()\n",
    "all_alpha_18.isnull().sum()"
   ]
  },
  {
   "cell_type": "code",
   "execution_count": 9,
   "metadata": {},
   "outputs": [
    {
     "data": {
      "text/plain": [
       "Model                    object\n",
       "Displ                   float64\n",
       "Cyl                      object\n",
       "Trans                    object\n",
       "Drive                    object\n",
       "Fuel                     object\n",
       "Sales Area               object\n",
       "Stnd                     object\n",
       "Underhood ID             object\n",
       "Veh Class                object\n",
       "Air Pollution Score      object\n",
       "FE Calc Appr             object\n",
       "City MPG                 object\n",
       "Hwy MPG                  object\n",
       "Cmb MPG                  object\n",
       "Unadj Cmb MPG           float64\n",
       "Greenhouse Gas Score     object\n",
       "SmartWay                 object\n",
       "dtype: object"
      ]
     },
     "execution_count": 9,
     "metadata": {},
     "output_type": "execute_result"
    },
    {
     "data": {
      "text/plain": [
       "Model                    object\n",
       "Displ                   float64\n",
       "Cyl                     float64\n",
       "Trans                    object\n",
       "Drive                    object\n",
       "Fuel                     object\n",
       "Cert Region              object\n",
       "Stnd                     object\n",
       "Stnd Description         object\n",
       "Underhood ID             object\n",
       "Veh Class                object\n",
       "Air Pollution Score       int64\n",
       "City MPG                 object\n",
       "Hwy MPG                  object\n",
       "Cmb MPG                  object\n",
       "Greenhouse Gas Score      int64\n",
       "SmartWay                 object\n",
       "Comb CO2                 object\n",
       "dtype: object"
      ]
     },
     "execution_count": 9,
     "metadata": {},
     "output_type": "execute_result"
    }
   ],
   "source": [
    "# Datatype\n",
    "all_alpha_08.dtypes\n",
    "all_alpha_18.dtypes"
   ]
  },
  {
   "cell_type": "code",
   "execution_count": 10,
   "metadata": {},
   "outputs": [
    {
     "data": {
      "text/plain": [
       "2"
      ]
     },
     "execution_count": 10,
     "metadata": {},
     "output_type": "execute_result"
    },
    {
     "data": {
      "text/plain": [
       "3"
      ]
     },
     "execution_count": 10,
     "metadata": {},
     "output_type": "execute_result"
    },
    {
     "data": {
      "text/plain": [
       "3"
      ]
     },
     "execution_count": 10,
     "metadata": {},
     "output_type": "execute_result"
    },
    {
     "data": {
      "text/plain": [
       "2"
      ]
     },
     "execution_count": 10,
     "metadata": {},
     "output_type": "execute_result"
    },
    {
     "data": {
      "text/plain": [
       "14"
      ]
     },
     "execution_count": 10,
     "metadata": {},
     "output_type": "execute_result"
    }
   ],
   "source": [
    "# Number of non-null unique values\n",
    "all_alpha_08.nunique()['SmartWay']\n",
    "all_alpha_18.nunique()['SmartWay']\n",
    "\n",
    "all_alpha_08.nunique()['Sales Area']\n",
    "all_alpha_18.nunique()['Cert Region']\n",
    "\n",
    "all_alpha_08.nunique()['Trans']"
   ]
  },
  {
   "cell_type": "code",
   "execution_count": 11,
   "metadata": {},
   "outputs": [
    {
     "data": {
      "text/plain": [
       "dtype('O')"
      ]
     },
     "execution_count": 11,
     "metadata": {},
     "output_type": "execute_result"
    },
    {
     "data": {
      "text/plain": [
       "8"
      ]
     },
     "execution_count": 11,
     "metadata": {},
     "output_type": "execute_result"
    },
    {
     "data": {
      "text/plain": [
       "dtype('float64')"
      ]
     },
     "execution_count": 11,
     "metadata": {},
     "output_type": "execute_result"
    },
    {
     "data": {
      "text/plain": [
       "7"
      ]
     },
     "execution_count": 11,
     "metadata": {},
     "output_type": "execute_result"
    }
   ],
   "source": [
    "# Assessing Cyl between 2008 and 2018\n",
    "all_alpha_08['Cyl'].dtypes\n",
    "all_alpha_08.nunique()['Cyl']\n",
    "all_alpha_18['Cyl'].dtypes\n",
    "all_alpha_18.nunique()['Cyl']"
   ]
  },
  {
   "cell_type": "code",
   "execution_count": 12,
   "metadata": {},
   "outputs": [
    {
     "data": {
      "text/plain": [
       "array(['Gasoline', 'ethanol/gas', 'ethanol', 'diesel', 'CNG'], dtype=object)"
      ]
     },
     "execution_count": 12,
     "metadata": {},
     "output_type": "execute_result"
    },
    {
     "data": {
      "text/plain": [
       "array(['Gasoline', 'Gasoline/Electricity', 'Diesel', 'Ethanol/Gas',\n",
       "       'Electricity'], dtype=object)"
      ]
     },
     "execution_count": 12,
     "metadata": {},
     "output_type": "execute_result"
    }
   ],
   "source": [
    "# Assesssing Fuel Types between 2008 and 2018\n",
    "all_alpha_08['Fuel'].unique()\n",
    "all_alpha_18['Fuel'].unique()\n"
   ]
  }
 ],
 "metadata": {
  "kernelspec": {
   "display_name": "Python 3",
   "language": "python",
   "name": "python3"
  },
  "language_info": {
   "codemirror_mode": {
    "name": "ipython",
    "version": 3
   },
   "file_extension": ".py",
   "mimetype": "text/x-python",
   "name": "python",
   "nbconvert_exporter": "python",
   "pygments_lexer": "ipython3",
   "version": "3.6.3"
  }
 },
 "nbformat": 4,
 "nbformat_minor": 2
}
